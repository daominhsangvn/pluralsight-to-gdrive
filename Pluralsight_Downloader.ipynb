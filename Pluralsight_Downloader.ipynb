{
  "nbformat": 4,
  "nbformat_minor": 0,
  "metadata": {
    "colab": {
      "name": "Pluralsight Downloader.ipynb",
      "provenance": [],
      "collapsed_sections": []
    },
    "kernelspec": {
      "name": "python3",
      "display_name": "Python 3"
    }
  },
  "cells": [
    {
      "cell_type": "code",
      "metadata": {
        "id": "nUCLNN1uLvYR",
        "colab_type": "code",
        "cellView": "form",
        "colab": {}
      },
      "source": [
        "#@title MOUNTING DRIVE\n",
        "from google.colab import drive\n",
        "drive.mount('/content/drive')"
      ],
      "execution_count": null,
      "outputs": []
    },
    {
      "cell_type": "code",
      "metadata": {
        "id": "R6TRE79563GP",
        "colab_type": "code",
        "cellView": "form",
        "colab": {}
      },
      "source": [
        "#@title Prerequisites Installation\n",
        "#@markdown `COURSE_PATH`: File which contains a list of course urls. Use below code to collect urls.<br />\n",
        "#@markdown <pre>Array.from(document.querySelectorAll('a[href^=\"/library/courses\"]')).map(e => 'https://app.pluralsight.com' + e.getAttribute('href')).join('\\n')</pre>\n",
        "#@markdown `COOKIES_PATH`: File which contains Pluralsight session cookies. Use this chrome extension to grab the cookies https://chrome.google.com/webstore/detail/cookiestxt/njabckikapfpffapmjgojcnbfjonfjfg?hl=vi<br />\n",
        "#@markdown `PROXY`: Http proxy. This proxy must be used to generate session cookies. Suggest: https://webshare.io<br />\n",
        "#@markdown `USERAGENT`: Request header `User-Agent` must be same as with the cookies.<br />\n",
        "\n",
        "!rm -rf pluralsight-to-gdrive\n",
        "!git clone https://github.com/daominhsangvn/pluralsight-to-gdrive.git\n",
        "!pip install -r /content/pluralsight-to-gdrive/requirements.txt"
      ],
      "execution_count": null,
      "outputs": []
    },
    {
      "cell_type": "code",
      "metadata": {
        "id": "Py9Td-ny2_GM",
        "colab_type": "code",
        "colab": {},
        "cellView": "form"
      },
      "source": [
        "#@title Notebook IP Address\n",
        "!curl ipecho.net/plain"
      ],
      "execution_count": null,
      "outputs": []
    },
    {
      "cell_type": "code",
      "metadata": {
        "id": "-C5FE6-oP3rT",
        "colab_type": "code",
        "cellView": "both",
        "colab": {}
      },
      "source": [
        "#@title Download courses\n",
        "COOKIES_PATH = \"/content/cookies.txt\" #@param {type:\"string\"}\n",
        "COURSE_PATH = \"/content/course.txt\" #@param {type:\"string\"}\n",
        "PROXY = \"\" #@param {type:\"string\"}\n",
        "#@markdown If proxy has username and password then use following pattern: <i>http://\\<username\\>:\\<passsword\\>@\\<proxy\\>:\\<port\\></i><br />\n",
        "USERAGENT = \"\" #@param {type:\"string\"}\n",
        "OUTPUT_FOLDER = \"/content/drive/Shared drives/Fr33C0ur3s/PIwr4ISight\" #@param {type:\"string\"}\n",
        "\n",
        "!python /content/pluralsight-to-gdrive/dl_colab.py \"$COURSE_PATH\" \"$OUTPUT_FOLDER\" -c \"$COOKIES_PATH\" -pr \"$PROXY\" -ua \"$USERAGENT\""
      ],
      "execution_count": null,
      "outputs": []
    }
  ]
}